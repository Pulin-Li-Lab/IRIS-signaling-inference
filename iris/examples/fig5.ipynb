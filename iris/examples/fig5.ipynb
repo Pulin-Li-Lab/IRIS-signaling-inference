{
 "cells": [
  {
   "cell_type": "code",
   "execution_count": null,
   "metadata": {},
   "outputs": [],
   "source": [
    "from iris.src.iris import IRIS"
   ]
  },
  {
   "cell_type": "code",
   "execution_count": null,
   "metadata": {},
   "outputs": [],
   "source": [
    "# import dataset \n",
    "adata = \n",
    "fig5 = IRIS('figure 5', anndata = adata)"
   ]
  },
  {
   "cell_type": "code",
   "execution_count": null,
   "metadata": {},
   "outputs": [],
   "source": [
    "# generate diffusion on its own \n",
    "sc.tl.pca(adata, n_comps=50)\n",
    "sc.pp.neighbors(adata, n_neighbors=100, n_pcs=50, use_rep='X_pca', method='gauss')\n",
    "sc.tl.diffmap(adata, n_comps=10)\n",
    "# plot diffusion map\n",
    "sc.pl.diffmap(adata, components=['2, 3'], projection='2d', color='celltype')"
   ]
  },
  {
   "cell_type": "code",
   "execution_count": null,
   "metadata": {},
   "outputs": [],
   "source": [
    "# make predictions with .run_model\n",
    "fig5.run_model('fig5_predictions.csv')"
   ]
  },
  {
   "cell_type": "code",
   "execution_count": null,
   "metadata": {},
   "outputs": [],
   "source": [
    "# some processing to add boolean column if prediction matches pattern -- will call new IRIS function (pending)\n",
    "state = {} # some dict\n",
    "data = fig5.find_predicted_state()"
   ]
  },
  {
   "cell_type": "code",
   "execution_count": null,
   "metadata": {},
   "outputs": [],
   "source": [
    "# sc.pl.diffmap with color = column from result from processing in cell directly above\n",
    "sc.pl.diffmap(data, color=some col)"
   ]
  }
 ],
 "metadata": {
  "language_info": {
   "name": "python"
  }
 },
 "nbformat": 4,
 "nbformat_minor": 2
}
