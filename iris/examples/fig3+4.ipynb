{
 "cells": [
  {
   "cell_type": "code",
   "execution_count": 1,
   "metadata": {},
   "outputs": [],
   "source": [
    "import sys\n",
    "import os\n",
    "\n",
    "# add the parent directory (iris) to sys.path so it can be found\n",
    "sys.path.append(os.path.abspath(os.path.join(os.getcwd(), \"../..\")))"
   ]
  },
  {
   "cell_type": "code",
   "execution_count": 2,
   "metadata": {},
   "outputs": [
    {
     "name": "stderr",
     "output_type": "stream",
     "text": [
      "/lab/tambora_li/Claire/miniconda3/envs/scvi-gpu/lib/python3.9/site-packages/tqdm/auto.py:21: TqdmWarning: IProgress not found. Please update jupyter and ipywidgets. See https://ipywidgets.readthedocs.io/en/stable/user_install.html\n",
      "  from .autonotebook import tqdm as notebook_tqdm\n",
      "[rank: 0] Global seed set to 0\n",
      "/lab/tambora_li/Claire/miniconda3/envs/scvi-gpu/lib/python3.9/site-packages/flax/struct.py:132: FutureWarning: jax.tree_util.register_keypaths is deprecated, and will be removed in a future release. Please use `register_pytree_with_keys()` instead.\n",
      "  jax.tree_util.register_keypaths(data_clz, keypaths)\n",
      "/lab/tambora_li/Claire/miniconda3/envs/scvi-gpu/lib/python3.9/site-packages/flax/struct.py:132: FutureWarning: jax.tree_util.register_keypaths is deprecated, and will be removed in a future release. Please use `register_pytree_with_keys()` instead.\n",
      "  jax.tree_util.register_keypaths(data_clz, keypaths)\n"
     ]
    }
   ],
   "source": [
    "from scanpy import read_h5ad\n",
    "from iris.src.iris import IRIS"
   ]
  },
  {
   "cell_type": "code",
   "execution_count": 3,
   "metadata": {},
   "outputs": [],
   "source": [
    "# path = '../../data/screen_data.h5ad' # replace with your path to data\n",
    "path = '/lab/tambora_li/Nicholas/figures-paper/fig5v2/fig5v2_data.h5ad'"
   ]
  },
  {
   "cell_type": "code",
   "execution_count": 4,
   "metadata": {},
   "outputs": [
    {
     "name": "stderr",
     "output_type": "stream",
     "text": [
      "/lab/tambora_li/Claire/miniconda3/envs/scvi-gpu/lib/python3.9/site-packages/anndata/_core/anndata.py:1830: UserWarning: Observation names are not unique. To make them unique, call `.obs_names_make_unique`.\n",
      "  utils.warn_names_duplicates(\"obs\")\n"
     ]
    }
   ],
   "source": [
    "import numpy as np # delete later\n",
    "adata = read_h5ad(path) \n",
    "adata = adata[np.isin(adata.obs['batch'], [1,2,3])] # delete later\n",
    "iris_ex = IRIS('fig34_example', anndata = adata)"
   ]
  },
  {
   "cell_type": "code",
   "execution_count": 5,
   "metadata": {},
   "outputs": [
    {
     "data": {
      "text/html": [
       "<div>\n",
       "<style scoped>\n",
       "    .dataframe tbody tr th:only-of-type {\n",
       "        vertical-align: middle;\n",
       "    }\n",
       "\n",
       "    .dataframe tbody tr th {\n",
       "        vertical-align: top;\n",
       "    }\n",
       "\n",
       "    .dataframe thead th {\n",
       "        text-align: right;\n",
       "    }\n",
       "</style>\n",
       "<table border=\"1\" class=\"dataframe\">\n",
       "  <thead>\n",
       "    <tr style=\"text-align: right;\">\n",
       "      <th></th>\n",
       "      <th>batch</th>\n",
       "      <th>celltype</th>\n",
       "      <th>RA_class</th>\n",
       "      <th>Wnt_class</th>\n",
       "      <th>TgfB_class</th>\n",
       "      <th>Bmp_class</th>\n",
       "      <th>Fgf_class</th>\n",
       "      <th>species</th>\n",
       "      <th>Shh_class</th>\n",
       "      <th>_scvi_batch</th>\n",
       "      <th>_scvi_labels</th>\n",
       "    </tr>\n",
       "  </thead>\n",
       "  <tbody>\n",
       "    <tr>\n",
       "      <th>AAACCTGAGAACTGTA-1</th>\n",
       "      <td>1</td>\n",
       "      <td>Epiblast</td>\n",
       "      <td>Stim</td>\n",
       "      <td>Ctrl</td>\n",
       "      <td>Stim</td>\n",
       "      <td>Ctrl</td>\n",
       "      <td>Stim</td>\n",
       "      <td>mouse</td>\n",
       "      <td>Ctrl</td>\n",
       "      <td>0</td>\n",
       "      <td>0</td>\n",
       "    </tr>\n",
       "    <tr>\n",
       "      <th>AAACCTGAGTCAAGCG-1</th>\n",
       "      <td>1</td>\n",
       "      <td>Epiblast</td>\n",
       "      <td>Ctrl</td>\n",
       "      <td>Stim</td>\n",
       "      <td>Ctrl</td>\n",
       "      <td>Stim</td>\n",
       "      <td>Ctrl</td>\n",
       "      <td>mouse</td>\n",
       "      <td>Ctrl</td>\n",
       "      <td>0</td>\n",
       "      <td>1</td>\n",
       "    </tr>\n",
       "    <tr>\n",
       "      <th>AAACCTGAGTGCGTGA-1</th>\n",
       "      <td>1</td>\n",
       "      <td>Epiblast</td>\n",
       "      <td>Ctrl</td>\n",
       "      <td>Stim</td>\n",
       "      <td>Ctrl</td>\n",
       "      <td>Stim</td>\n",
       "      <td>Ctrl</td>\n",
       "      <td>mouse</td>\n",
       "      <td>Ctrl</td>\n",
       "      <td>0</td>\n",
       "      <td>1</td>\n",
       "    </tr>\n",
       "    <tr>\n",
       "      <th>AAACCTGGTTCAGGCC-1</th>\n",
       "      <td>1</td>\n",
       "      <td>Epiblast</td>\n",
       "      <td>Ctrl</td>\n",
       "      <td>Stim</td>\n",
       "      <td>Ctrl</td>\n",
       "      <td>Stim</td>\n",
       "      <td>Stim</td>\n",
       "      <td>mouse</td>\n",
       "      <td>Ctrl</td>\n",
       "      <td>0</td>\n",
       "      <td>1</td>\n",
       "    </tr>\n",
       "    <tr>\n",
       "      <th>AAACCTGTCATGTAGC-1</th>\n",
       "      <td>1</td>\n",
       "      <td>Epiblast</td>\n",
       "      <td>Stim</td>\n",
       "      <td>Ctrl</td>\n",
       "      <td>Ctrl</td>\n",
       "      <td>Stim</td>\n",
       "      <td>Ctrl</td>\n",
       "      <td>mouse</td>\n",
       "      <td>Ctrl</td>\n",
       "      <td>0</td>\n",
       "      <td>1</td>\n",
       "    </tr>\n",
       "    <tr>\n",
       "      <th>...</th>\n",
       "      <td>...</td>\n",
       "      <td>...</td>\n",
       "      <td>...</td>\n",
       "      <td>...</td>\n",
       "      <td>...</td>\n",
       "      <td>...</td>\n",
       "      <td>...</td>\n",
       "      <td>...</td>\n",
       "      <td>...</td>\n",
       "      <td>...</td>\n",
       "      <td>...</td>\n",
       "    </tr>\n",
       "    <tr>\n",
       "      <th>AATCGGTAGCCCAGCT-1</th>\n",
       "      <td>2</td>\n",
       "      <td>Primitive Streak</td>\n",
       "      <td>Stim</td>\n",
       "      <td>Ctrl</td>\n",
       "      <td>Ctrl</td>\n",
       "      <td>Stim</td>\n",
       "      <td>Ctrl</td>\n",
       "      <td>mouse</td>\n",
       "      <td>Stim</td>\n",
       "      <td>1</td>\n",
       "      <td>1</td>\n",
       "    </tr>\n",
       "    <tr>\n",
       "      <th>AATCGGTAGTGCAAGC-1</th>\n",
       "      <td>2</td>\n",
       "      <td>Primitive Streak</td>\n",
       "      <td>Ctrl</td>\n",
       "      <td>Stim</td>\n",
       "      <td>Ctrl</td>\n",
       "      <td>Ctrl</td>\n",
       "      <td>Ctrl</td>\n",
       "      <td>mouse</td>\n",
       "      <td>Stim</td>\n",
       "      <td>1</td>\n",
       "      <td>0</td>\n",
       "    </tr>\n",
       "    <tr>\n",
       "      <th>AATCGGTCAACTGCTA-1</th>\n",
       "      <td>2</td>\n",
       "      <td>Primitive Streak</td>\n",
       "      <td>Ctrl</td>\n",
       "      <td>Stim</td>\n",
       "      <td>Stim</td>\n",
       "      <td>Stim</td>\n",
       "      <td>Stim</td>\n",
       "      <td>mouse</td>\n",
       "      <td>Ctrl</td>\n",
       "      <td>1</td>\n",
       "      <td>1</td>\n",
       "    </tr>\n",
       "    <tr>\n",
       "      <th>AATCGGTGTTACCGAT-1</th>\n",
       "      <td>2</td>\n",
       "      <td>Primitive Streak</td>\n",
       "      <td>Stim</td>\n",
       "      <td>Stim</td>\n",
       "      <td>Ctrl</td>\n",
       "      <td>Ctrl</td>\n",
       "      <td>Ctrl</td>\n",
       "      <td>mouse</td>\n",
       "      <td>Ctrl</td>\n",
       "      <td>1</td>\n",
       "      <td>0</td>\n",
       "    </tr>\n",
       "    <tr>\n",
       "      <th>AATCGGTTCCGATATG-1</th>\n",
       "      <td>2</td>\n",
       "      <td>Primitive Streak</td>\n",
       "      <td>Ctrl</td>\n",
       "      <td>Ctrl</td>\n",
       "      <td>Stim</td>\n",
       "      <td>Stim</td>\n",
       "      <td>Stim</td>\n",
       "      <td>mouse</td>\n",
       "      <td>Ctrl</td>\n",
       "      <td>1</td>\n",
       "      <td>1</td>\n",
       "    </tr>\n",
       "  </tbody>\n",
       "</table>\n",
       "<p>10150 rows × 11 columns</p>\n",
       "</div>"
      ],
      "text/plain": [
       "                    batch          celltype RA_class Wnt_class TgfB_class   \n",
       "AAACCTGAGAACTGTA-1      1          Epiblast     Stim      Ctrl       Stim  \\\n",
       "AAACCTGAGTCAAGCG-1      1          Epiblast     Ctrl      Stim       Ctrl   \n",
       "AAACCTGAGTGCGTGA-1      1          Epiblast     Ctrl      Stim       Ctrl   \n",
       "AAACCTGGTTCAGGCC-1      1          Epiblast     Ctrl      Stim       Ctrl   \n",
       "AAACCTGTCATGTAGC-1      1          Epiblast     Stim      Ctrl       Ctrl   \n",
       "...                   ...               ...      ...       ...        ...   \n",
       "AATCGGTAGCCCAGCT-1      2  Primitive Streak     Stim      Ctrl       Ctrl   \n",
       "AATCGGTAGTGCAAGC-1      2  Primitive Streak     Ctrl      Stim       Ctrl   \n",
       "AATCGGTCAACTGCTA-1      2  Primitive Streak     Ctrl      Stim       Stim   \n",
       "AATCGGTGTTACCGAT-1      2  Primitive Streak     Stim      Stim       Ctrl   \n",
       "AATCGGTTCCGATATG-1      2  Primitive Streak     Ctrl      Ctrl       Stim   \n",
       "\n",
       "                   Bmp_class Fgf_class species Shh_class  _scvi_batch   \n",
       "AAACCTGAGAACTGTA-1      Ctrl      Stim   mouse      Ctrl            0  \\\n",
       "AAACCTGAGTCAAGCG-1      Stim      Ctrl   mouse      Ctrl            0   \n",
       "AAACCTGAGTGCGTGA-1      Stim      Ctrl   mouse      Ctrl            0   \n",
       "AAACCTGGTTCAGGCC-1      Stim      Stim   mouse      Ctrl            0   \n",
       "AAACCTGTCATGTAGC-1      Stim      Ctrl   mouse      Ctrl            0   \n",
       "...                      ...       ...     ...       ...          ...   \n",
       "AATCGGTAGCCCAGCT-1      Stim      Ctrl   mouse      Stim            1   \n",
       "AATCGGTAGTGCAAGC-1      Ctrl      Ctrl   mouse      Stim            1   \n",
       "AATCGGTCAACTGCTA-1      Stim      Stim   mouse      Ctrl            1   \n",
       "AATCGGTGTTACCGAT-1      Ctrl      Ctrl   mouse      Ctrl            1   \n",
       "AATCGGTTCCGATATG-1      Stim      Stim   mouse      Ctrl            1   \n",
       "\n",
       "                    _scvi_labels  \n",
       "AAACCTGAGAACTGTA-1             0  \n",
       "AAACCTGAGTCAAGCG-1             1  \n",
       "AAACCTGAGTGCGTGA-1             1  \n",
       "AAACCTGGTTCAGGCC-1             1  \n",
       "AAACCTGTCATGTAGC-1             1  \n",
       "...                          ...  \n",
       "AATCGGTAGCCCAGCT-1             1  \n",
       "AATCGGTAGTGCAAGC-1             0  \n",
       "AATCGGTCAACTGCTA-1             1  \n",
       "AATCGGTGTTACCGAT-1             0  \n",
       "AATCGGTTCCGATATG-1             1  \n",
       "\n",
       "[10150 rows x 11 columns]"
      ]
     },
     "execution_count": 5,
     "metadata": {},
     "output_type": "execute_result"
    }
   ],
   "source": [
    "adata.obs"
   ]
  },
  {
   "cell_type": "markdown",
   "metadata": {},
   "source": [
    "# Make signaling state predictions with IRIS\n",
    "IRIS will save the trained SCVI and SCANVI models to the same directory that the notebook is in, along with a .csv of the predictions."
   ]
  },
  {
   "cell_type": "code",
   "execution_count": 6,
   "metadata": {},
   "outputs": [
    {
     "name": "stderr",
     "output_type": "stream",
     "text": [
      "/lab/tambora_li/Claire/thesis/IRIS_signaling_inference/iris/src/iris.py:415: ImplicitModificationWarning: Trying to modify attribute `.obs` of view, initializing view as actual.\n",
      "  self.anndata.obs['Clusters'] = \"unknown\"\n",
      "No GPU/TPU found, falling back to CPU. (Set TF_CPP_MIN_LOG_LEVEL=0 and rerun for more info.)\n",
      "GPU available: True (cuda), used: True\n",
      "TPU available: False, using: 0 TPU cores\n",
      "IPU available: False, using: 0 IPUs\n",
      "HPU available: False, using: 0 HPUs\n",
      "LOCAL_RANK: 0 - CUDA_VISIBLE_DEVICES: [0]\n",
      "SLURM auto-requeueing enabled. Setting signal handlers.\n"
     ]
    },
    {
     "name": "stdout",
     "output_type": "stream",
     "text": [
      "Epoch 306/400:  76%|███████▋  | 306/400 [06:42<02:03,  1.32s/it, loss=8.12e+03, v_num=1]\n",
      "Monitored metric elbo_validation did not improve in the last 45 records. Best score: 8426.104. Signaling Trainer to stop.\n",
      "\u001b[34mINFO    \u001b[0m Training for \u001b[1;36m5\u001b[0m epochs.                                                                                    \n"
     ]
    },
    {
     "name": "stderr",
     "output_type": "stream",
     "text": [
      "GPU available: True (cuda), used: True\n",
      "TPU available: False, using: 0 TPU cores\n",
      "IPU available: False, using: 0 IPUs\n",
      "HPU available: False, using: 0 HPUs\n",
      "LOCAL_RANK: 0 - CUDA_VISIBLE_DEVICES: [0]\n",
      "SLURM auto-requeueing enabled. Setting signal handlers.\n"
     ]
    },
    {
     "name": "stdout",
     "output_type": "stream",
     "text": [
      "Epoch 5/5: 100%|██████████| 5/5 [00:13<00:00,  2.64s/it, loss=8.27e+03, v_num=1]"
     ]
    },
    {
     "name": "stderr",
     "output_type": "stream",
     "text": [
      "`Trainer.fit` stopped: `max_epochs=5` reached.\n"
     ]
    },
    {
     "name": "stdout",
     "output_type": "stream",
     "text": [
      "Epoch 5/5: 100%|██████████| 5/5 [00:13<00:00,  2.65s/it, loss=8.27e+03, v_num=1]\n",
      "\u001b[34mINFO    \u001b[0m Received view of anndata, making copy.                                                                    \n",
      "\u001b[34mINFO    \u001b[0m Input AnnData not setup with scvi-tools. attempting to transfer AnnData setup                             \n"
     ]
    },
    {
     "name": "stderr",
     "output_type": "stream",
     "text": [
      "/lab/tambora_li/Claire/miniconda3/envs/scvi-gpu/lib/python3.9/site-packages/anndata/_core/anndata.py:1830: UserWarning: Observation names are not unique. To make them unique, call `.obs_names_make_unique`.\n",
      "  utils.warn_names_duplicates(\"obs\")\n",
      "/lab/tambora_li/Claire/thesis/IRIS_signaling_inference/iris/src/iris.py:466: ImplicitModificationWarning: Trying to modify attribute `.obs` of view, initializing view as actual.\n",
      "  adata_results.obs[val+'_predictions'] = predictions\n",
      "/lab/tambora_li/Claire/miniconda3/envs/scvi-gpu/lib/python3.9/site-packages/anndata/_core/anndata.py:1830: UserWarning: Observation names are not unique. To make them unique, call `.obs_names_make_unique`.\n",
      "  utils.warn_names_duplicates(\"obs\")\n",
      "/lab/tambora_li/Claire/miniconda3/envs/scvi-gpu/lib/python3.9/site-packages/anndata/_core/anndata.py:1830: UserWarning: Observation names are not unique. To make them unique, call `.obs_names_make_unique`.\n",
      "  utils.warn_names_duplicates(\"obs\")\n"
     ]
    },
    {
     "name": "stdout",
     "output_type": "stream",
     "text": [
      "\u001b[34mINFO    \u001b[0m Training for \u001b[1;36m5\u001b[0m epochs.                                                                                    \n"
     ]
    },
    {
     "name": "stderr",
     "output_type": "stream",
     "text": [
      "GPU available: True (cuda), used: True\n",
      "TPU available: False, using: 0 TPU cores\n",
      "IPU available: False, using: 0 IPUs\n",
      "HPU available: False, using: 0 HPUs\n",
      "LOCAL_RANK: 0 - CUDA_VISIBLE_DEVICES: [0]\n",
      "SLURM auto-requeueing enabled. Setting signal handlers.\n"
     ]
    },
    {
     "name": "stdout",
     "output_type": "stream",
     "text": [
      "Epoch 5/5: 100%|██████████| 5/5 [00:12<00:00,  2.53s/it, loss=8.25e+03, v_num=1]"
     ]
    },
    {
     "name": "stderr",
     "output_type": "stream",
     "text": [
      "`Trainer.fit` stopped: `max_epochs=5` reached.\n"
     ]
    },
    {
     "name": "stdout",
     "output_type": "stream",
     "text": [
      "Epoch 5/5: 100%|██████████| 5/5 [00:12<00:00,  2.51s/it, loss=8.25e+03, v_num=1]\n",
      "\u001b[34mINFO    \u001b[0m Received view of anndata, making copy.                                                                    \n",
      "\u001b[34mINFO    \u001b[0m Input AnnData not setup with scvi-tools. attempting to transfer AnnData setup                             \n"
     ]
    },
    {
     "name": "stderr",
     "output_type": "stream",
     "text": [
      "/lab/tambora_li/Claire/miniconda3/envs/scvi-gpu/lib/python3.9/site-packages/anndata/_core/anndata.py:1830: UserWarning: Observation names are not unique. To make them unique, call `.obs_names_make_unique`.\n",
      "  utils.warn_names_duplicates(\"obs\")\n"
     ]
    },
    {
     "name": "stdout",
     "output_type": "stream",
     "text": [
      "\u001b[34mINFO    \u001b[0m Training for \u001b[1;36m5\u001b[0m epochs.                                                                                    \n"
     ]
    },
    {
     "name": "stderr",
     "output_type": "stream",
     "text": [
      "GPU available: True (cuda), used: True\n",
      "TPU available: False, using: 0 TPU cores\n",
      "IPU available: False, using: 0 IPUs\n",
      "HPU available: False, using: 0 HPUs\n",
      "LOCAL_RANK: 0 - CUDA_VISIBLE_DEVICES: [0]\n",
      "SLURM auto-requeueing enabled. Setting signal handlers.\n"
     ]
    },
    {
     "name": "stdout",
     "output_type": "stream",
     "text": [
      "Epoch 5/5: 100%|██████████| 5/5 [00:13<00:00,  2.62s/it, loss=8.28e+03, v_num=1]"
     ]
    },
    {
     "name": "stderr",
     "output_type": "stream",
     "text": [
      "`Trainer.fit` stopped: `max_epochs=5` reached.\n"
     ]
    },
    {
     "name": "stdout",
     "output_type": "stream",
     "text": [
      "Epoch 5/5: 100%|██████████| 5/5 [00:13<00:00,  2.63s/it, loss=8.28e+03, v_num=1]\n",
      "\u001b[34mINFO    \u001b[0m Received view of anndata, making copy.                                                                    \n",
      "\u001b[34mINFO    \u001b[0m Input AnnData not setup with scvi-tools. attempting to transfer AnnData setup                             \n"
     ]
    },
    {
     "name": "stderr",
     "output_type": "stream",
     "text": [
      "/lab/tambora_li/Claire/miniconda3/envs/scvi-gpu/lib/python3.9/site-packages/anndata/_core/anndata.py:1830: UserWarning: Observation names are not unique. To make them unique, call `.obs_names_make_unique`.\n",
      "  utils.warn_names_duplicates(\"obs\")\n"
     ]
    },
    {
     "name": "stdout",
     "output_type": "stream",
     "text": [
      "\u001b[34mINFO    \u001b[0m Training for \u001b[1;36m5\u001b[0m epochs.                                                                                    \n"
     ]
    },
    {
     "name": "stderr",
     "output_type": "stream",
     "text": [
      "GPU available: True (cuda), used: True\n",
      "TPU available: False, using: 0 TPU cores\n",
      "IPU available: False, using: 0 IPUs\n",
      "HPU available: False, using: 0 HPUs\n",
      "LOCAL_RANK: 0 - CUDA_VISIBLE_DEVICES: [0]\n",
      "SLURM auto-requeueing enabled. Setting signal handlers.\n"
     ]
    },
    {
     "name": "stdout",
     "output_type": "stream",
     "text": [
      "Epoch 5/5: 100%|██████████| 5/5 [00:12<00:00,  2.60s/it, loss=8.28e+03, v_num=1]"
     ]
    },
    {
     "name": "stderr",
     "output_type": "stream",
     "text": [
      "`Trainer.fit` stopped: `max_epochs=5` reached.\n"
     ]
    },
    {
     "name": "stdout",
     "output_type": "stream",
     "text": [
      "Epoch 5/5: 100%|██████████| 5/5 [00:12<00:00,  2.59s/it, loss=8.28e+03, v_num=1]\n",
      "\u001b[34mINFO    \u001b[0m Received view of anndata, making copy.                                                                    \n",
      "\u001b[34mINFO    \u001b[0m Input AnnData not setup with scvi-tools. attempting to transfer AnnData setup                             \n"
     ]
    },
    {
     "name": "stderr",
     "output_type": "stream",
     "text": [
      "/lab/tambora_li/Claire/miniconda3/envs/scvi-gpu/lib/python3.9/site-packages/anndata/_core/anndata.py:1830: UserWarning: Observation names are not unique. To make them unique, call `.obs_names_make_unique`.\n",
      "  utils.warn_names_duplicates(\"obs\")\n"
     ]
    },
    {
     "name": "stdout",
     "output_type": "stream",
     "text": [
      "\u001b[34mINFO    \u001b[0m Training for \u001b[1;36m5\u001b[0m epochs.                                                                                    \n"
     ]
    },
    {
     "name": "stderr",
     "output_type": "stream",
     "text": [
      "GPU available: True (cuda), used: True\n",
      "TPU available: False, using: 0 TPU cores\n",
      "IPU available: False, using: 0 IPUs\n",
      "HPU available: False, using: 0 HPUs\n",
      "LOCAL_RANK: 0 - CUDA_VISIBLE_DEVICES: [0]\n",
      "SLURM auto-requeueing enabled. Setting signal handlers.\n"
     ]
    },
    {
     "name": "stdout",
     "output_type": "stream",
     "text": [
      "Epoch 5/5: 100%|██████████| 5/5 [00:12<00:00,  2.59s/it, loss=8.27e+03, v_num=1]"
     ]
    },
    {
     "name": "stderr",
     "output_type": "stream",
     "text": [
      "`Trainer.fit` stopped: `max_epochs=5` reached.\n"
     ]
    },
    {
     "name": "stdout",
     "output_type": "stream",
     "text": [
      "Epoch 5/5: 100%|██████████| 5/5 [00:12<00:00,  2.59s/it, loss=8.27e+03, v_num=1]\n",
      "\u001b[34mINFO    \u001b[0m Received view of anndata, making copy.                                                                    \n",
      "\u001b[34mINFO    \u001b[0m Input AnnData not setup with scvi-tools. attempting to transfer AnnData setup                             \n"
     ]
    },
    {
     "name": "stderr",
     "output_type": "stream",
     "text": [
      "/lab/tambora_li/Claire/miniconda3/envs/scvi-gpu/lib/python3.9/site-packages/anndata/_core/anndata.py:1830: UserWarning: Observation names are not unique. To make them unique, call `.obs_names_make_unique`.\n",
      "  utils.warn_names_duplicates(\"obs\")\n"
     ]
    },
    {
     "name": "stdout",
     "output_type": "stream",
     "text": [
      "\u001b[34mINFO    \u001b[0m Training for \u001b[1;36m5\u001b[0m epochs.                                                                                    \n"
     ]
    },
    {
     "name": "stderr",
     "output_type": "stream",
     "text": [
      "GPU available: True (cuda), used: True\n",
      "TPU available: False, using: 0 TPU cores\n",
      "IPU available: False, using: 0 IPUs\n",
      "HPU available: False, using: 0 HPUs\n",
      "LOCAL_RANK: 0 - CUDA_VISIBLE_DEVICES: [0]\n",
      "SLURM auto-requeueing enabled. Setting signal handlers.\n"
     ]
    },
    {
     "name": "stdout",
     "output_type": "stream",
     "text": [
      "Epoch 5/5: 100%|██████████| 5/5 [00:13<00:00,  2.62s/it, loss=8.28e+03, v_num=1]"
     ]
    },
    {
     "name": "stderr",
     "output_type": "stream",
     "text": [
      "`Trainer.fit` stopped: `max_epochs=5` reached.\n"
     ]
    },
    {
     "name": "stdout",
     "output_type": "stream",
     "text": [
      "Epoch 5/5: 100%|██████████| 5/5 [00:13<00:00,  2.62s/it, loss=8.28e+03, v_num=1]\n",
      "\u001b[34mINFO    \u001b[0m Received view of anndata, making copy.                                                                    \n",
      "\u001b[34mINFO    \u001b[0m Input AnnData not setup with scvi-tools. attempting to transfer AnnData setup                             \n"
     ]
    },
    {
     "name": "stderr",
     "output_type": "stream",
     "text": [
      "/lab/tambora_li/Claire/miniconda3/envs/scvi-gpu/lib/python3.9/site-packages/anndata/_core/anndata.py:1830: UserWarning: Observation names are not unique. To make them unique, call `.obs_names_make_unique`.\n",
      "  utils.warn_names_duplicates(\"obs\")\n"
     ]
    }
   ],
   "source": [
    "# run_model saves the trained SCVI and SCANVI models to your directory\n",
    "predictions, adata_results = iris_ex.run_model('predictions.csv')"
   ]
  },
  {
   "cell_type": "markdown",
   "metadata": {},
   "source": [
    "# Evaluate IRIS's predictions\n",
    "Score IRIS predictions against the data through AUROC/AUPRC/F1. The function can also save any generated AUROC/AUPRC/F1 plots."
   ]
  },
  {
   "cell_type": "code",
   "execution_count": 6,
   "metadata": {},
   "outputs": [
    {
     "name": "stderr",
     "output_type": "stream",
     "text": [
      "/lab/tambora_li/Claire/miniconda3/envs/scvi-gpu/lib/python3.9/site-packages/scanpy/preprocessing/_normalization.py:170: UserWarning: Received a view of an AnnData. Making a copy.\n",
      "  view_to_actual(adata)\n",
      "/lab/tambora_li/Claire/thesis/IRIS_signaling_inference/iris/src/iris.py:207: ImplicitModificationWarning: Trying to modify attribute `.obs` of view, initializing view as actual.\n",
      "  self.anndata.obs[name] = adata_gifford.obs[name]\n"
     ]
    },
    {
     "data": {
      "image/png": "[encoded data removed]",
      "text/plain": [
       "<Figure size 640x480 with 1 Axes>"
      ]
     },
     "metadata": {},
     "output_type": "display_data"
    },
    {
     "data": {
      "image/png": "[encoded data removed]",
      "text/plain": [
       "<Figure size 640x480 with 1 Axes>"
      ]
     },
     "metadata": {},
     "output_type": "display_data"
    }
   ],
   "source": [
    "from pandas import read_csv\n",
    "predictions = read_csv('predictions.csv')\n",
    "scores = iris_ex.evaluate(predictions, metrics=['AUROC', 'AUPRC'])"
   ]
  },
  {
   "cell_type": "code",
   "execution_count": 7,
   "metadata": {},
   "outputs": [
    {
     "data": {
      "text/plain": [
       "{'RA': {'AUROC': 0.9467423040736508, 'AUPRC': 0.9441388475923047},\n",
       " 'Bmp': {'AUROC': 0.8929834107932431, 'AUPRC': 0.8704099258713481},\n",
       " 'Fgf': {'AUROC': 0.8387497424671017, 'AUPRC': 0.8593697918315288},\n",
       " 'Wnt': {'AUROC': 0.9352262644188111, 'AUPRC': 0.9082758534113784},\n",
       " 'TgfB': {'AUROC': 0.9300586434773824, 'AUPRC': 0.9162439647072214},\n",
       " 'Shh': {'AUROC': 0.5991762327905115, 'AUPRC': 0.011448931905211915}}"
      ]
     },
     "execution_count": 7,
     "metadata": {},
     "output_type": "execute_result"
    }
   ],
   "source": [
    "scores"
   ]
  },
  {
   "cell_type": "markdown",
   "metadata": {},
   "source": [
    "You may notice that the IRIS performance on Shh does not seem very good! In this dataset, there are only about 20 labeled samples with Shh out of ~10,000 cells, so it is expected that the model will not be able to predict Shh well from this data."
   ]
  },
  {
   "cell_type": "markdown",
   "metadata": {},
   "source": [
    "# Hold out given signaling conditions and see how it affects F1 scores. "
   ]
  },
  {
   "cell_type": "code",
   "execution_count": 12,
   "metadata": {},
   "outputs": [
    {
     "name": "stderr",
     "output_type": "stream",
     "text": [
      "/lab/tambora_li/Claire/miniconda3/envs/scvi-gpu/lib/python3.9/site-packages/scanpy/preprocessing/_normalization.py:170: UserWarning: Received a view of an AnnData. Making a copy.\n",
      "  view_to_actual(adata)\n",
      "/lab/tambora_li/Claire/thesis/IRIS_signaling_inference/iris/src/iris.py:643: ImplicitModificationWarning: Trying to modify attribute `.obs` of view, initializing view as actual.\n",
      "  adata_cat_out.obs[class_names] = 'unknown'\n",
      "GPU available: True (cuda), used: True\n",
      "TPU available: False, using: 0 TPU cores\n",
      "IPU available: False, using: 0 IPUs\n",
      "HPU available: False, using: 0 HPUs\n",
      "LOCAL_RANK: 0 - CUDA_VISIBLE_DEVICES: [0]\n",
      "SLURM auto-requeueing enabled. Setting signal handlers.\n"
     ]
    },
    {
     "name": "stdout",
     "output_type": "stream",
     "text": [
      "Epoch 25/25: 100%|██████████| 25/25 [00:33<00:00,  1.30s/it, loss=8.61e+03, v_num=1]"
     ]
    },
    {
     "name": "stderr",
     "output_type": "stream",
     "text": [
      "`Trainer.fit` stopped: `max_epochs=25` reached.\n"
     ]
    },
    {
     "name": "stdout",
     "output_type": "stream",
     "text": [
      "Epoch 25/25: 100%|██████████| 25/25 [00:33<00:00,  1.32s/it, loss=8.61e+03, v_num=1]\n",
      "\u001b[34mINFO    \u001b[0m Training for \u001b[1;36m5\u001b[0m epochs.                                                                                    \n"
     ]
    },
    {
     "name": "stderr",
     "output_type": "stream",
     "text": [
      "GPU available: True (cuda), used: True\n",
      "TPU available: False, using: 0 TPU cores\n",
      "IPU available: False, using: 0 IPUs\n",
      "HPU available: False, using: 0 HPUs\n",
      "LOCAL_RANK: 0 - CUDA_VISIBLE_DEVICES: [0]\n",
      "SLURM auto-requeueing enabled. Setting signal handlers.\n"
     ]
    },
    {
     "name": "stdout",
     "output_type": "stream",
     "text": [
      "Epoch 5/5: 100%|██████████| 5/5 [00:08<00:00,  1.71s/it, loss=8.53e+03, v_num=1]"
     ]
    },
    {
     "name": "stderr",
     "output_type": "stream",
     "text": [
      "`Trainer.fit` stopped: `max_epochs=5` reached.\n"
     ]
    },
    {
     "name": "stdout",
     "output_type": "stream",
     "text": [
      "Epoch 5/5: 100%|██████████| 5/5 [00:08<00:00,  1.71s/it, loss=8.53e+03, v_num=1]\n",
      "\u001b[34mINFO    \u001b[0m Training for \u001b[1;36m5\u001b[0m epochs.                                                                                    \n"
     ]
    },
    {
     "name": "stderr",
     "output_type": "stream",
     "text": [
      "GPU available: True (cuda), used: True\n",
      "TPU available: False, using: 0 TPU cores\n",
      "IPU available: False, using: 0 IPUs\n",
      "HPU available: False, using: 0 HPUs\n",
      "LOCAL_RANK: 0 - CUDA_VISIBLE_DEVICES: [0]\n",
      "SLURM auto-requeueing enabled. Setting signal handlers.\n"
     ]
    },
    {
     "name": "stdout",
     "output_type": "stream",
     "text": [
      "Epoch 5/5: 100%|██████████| 5/5 [00:08<00:00,  1.70s/it, loss=8.54e+03, v_num=1]"
     ]
    },
    {
     "name": "stderr",
     "output_type": "stream",
     "text": [
      "`Trainer.fit` stopped: `max_epochs=5` reached.\n"
     ]
    },
    {
     "name": "stdout",
     "output_type": "stream",
     "text": [
      "Epoch 5/5: 100%|██████████| 5/5 [00:08<00:00,  1.71s/it, loss=8.54e+03, v_num=1]\n",
      "\u001b[34mINFO    \u001b[0m Training for \u001b[1;36m5\u001b[0m epochs.                                                                                    \n"
     ]
    },
    {
     "name": "stderr",
     "output_type": "stream",
     "text": [
      "GPU available: True (cuda), used: True\n",
      "TPU available: False, using: 0 TPU cores\n",
      "IPU available: False, using: 0 IPUs\n",
      "HPU available: False, using: 0 HPUs\n",
      "LOCAL_RANK: 0 - CUDA_VISIBLE_DEVICES: [0]\n",
      "SLURM auto-requeueing enabled. Setting signal handlers.\n"
     ]
    },
    {
     "name": "stdout",
     "output_type": "stream",
     "text": [
      "Epoch 5/5: 100%|██████████| 5/5 [00:08<00:00,  1.68s/it, loss=8.55e+03, v_num=1]"
     ]
    },
    {
     "name": "stderr",
     "output_type": "stream",
     "text": [
      "`Trainer.fit` stopped: `max_epochs=5` reached.\n"
     ]
    },
    {
     "name": "stdout",
     "output_type": "stream",
     "text": [
      "Epoch 5/5: 100%|██████████| 5/5 [00:08<00:00,  1.69s/it, loss=8.55e+03, v_num=1]\n",
      "\u001b[34mINFO    \u001b[0m Training for \u001b[1;36m5\u001b[0m epochs.                                                                                    \n"
     ]
    },
    {
     "name": "stderr",
     "output_type": "stream",
     "text": [
      "GPU available: True (cuda), used: True\n",
      "TPU available: False, using: 0 TPU cores\n",
      "IPU available: False, using: 0 IPUs\n",
      "HPU available: False, using: 0 HPUs\n",
      "LOCAL_RANK: 0 - CUDA_VISIBLE_DEVICES: [0]\n",
      "SLURM auto-requeueing enabled. Setting signal handlers.\n"
     ]
    },
    {
     "name": "stdout",
     "output_type": "stream",
     "text": [
      "Epoch 5/5: 100%|██████████| 5/5 [00:08<00:00,  1.69s/it, loss=8.54e+03, v_num=1]"
     ]
    },
    {
     "name": "stderr",
     "output_type": "stream",
     "text": [
      "`Trainer.fit` stopped: `max_epochs=5` reached.\n"
     ]
    },
    {
     "name": "stdout",
     "output_type": "stream",
     "text": [
      "Epoch 5/5: 100%|██████████| 5/5 [00:08<00:00,  1.69s/it, loss=8.54e+03, v_num=1]\n",
      "\u001b[34mINFO    \u001b[0m Training for \u001b[1;36m5\u001b[0m epochs.                                                                                    \n"
     ]
    },
    {
     "name": "stderr",
     "output_type": "stream",
     "text": [
      "GPU available: True (cuda), used: True\n",
      "TPU available: False, using: 0 TPU cores\n",
      "IPU available: False, using: 0 IPUs\n",
      "HPU available: False, using: 0 HPUs\n",
      "LOCAL_RANK: 0 - CUDA_VISIBLE_DEVICES: [0]\n",
      "SLURM auto-requeueing enabled. Setting signal handlers.\n"
     ]
    },
    {
     "name": "stdout",
     "output_type": "stream",
     "text": [
      "Epoch 5/5: 100%|██████████| 5/5 [00:08<00:00,  1.72s/it, loss=8.54e+03, v_num=1]"
     ]
    },
    {
     "name": "stderr",
     "output_type": "stream",
     "text": [
      "`Trainer.fit` stopped: `max_epochs=5` reached.\n"
     ]
    },
    {
     "name": "stdout",
     "output_type": "stream",
     "text": [
      "Epoch 5/5: 100%|██████████| 5/5 [00:08<00:00,  1.71s/it, loss=8.54e+03, v_num=1]\n",
      "\u001b[34mINFO    \u001b[0m Training for \u001b[1;36m5\u001b[0m epochs.                                                                                    \n"
     ]
    },
    {
     "name": "stderr",
     "output_type": "stream",
     "text": [
      "GPU available: True (cuda), used: True\n",
      "TPU available: False, using: 0 TPU cores\n",
      "IPU available: False, using: 0 IPUs\n",
      "HPU available: False, using: 0 HPUs\n",
      "LOCAL_RANK: 0 - CUDA_VISIBLE_DEVICES: [0]\n",
      "SLURM auto-requeueing enabled. Setting signal handlers.\n"
     ]
    },
    {
     "name": "stdout",
     "output_type": "stream",
     "text": [
      "Epoch 5/5: 100%|██████████| 5/5 [00:08<00:00,  1.68s/it, loss=8.54e+03, v_num=1]"
     ]
    },
    {
     "name": "stderr",
     "output_type": "stream",
     "text": [
      "`Trainer.fit` stopped: `max_epochs=5` reached.\n"
     ]
    },
    {
     "name": "stdout",
     "output_type": "stream",
     "text": [
      "Epoch 5/5: 100%|██████████| 5/5 [00:08<00:00,  1.69s/it, loss=8.54e+03, v_num=1]\n"
     ]
    },
    {
     "name": "stderr",
     "output_type": "stream",
     "text": [
      "/lab/tambora_li/Claire/thesis/IRIS_signaling_inference/iris/src/iris.py:643: ImplicitModificationWarning: Trying to modify attribute `.obs` of view, initializing view as actual.\n",
      "  adata_cat_out.obs[class_names] = 'unknown'\n",
      "GPU available: True (cuda), used: True\n",
      "TPU available: False, using: 0 TPU cores\n",
      "IPU available: False, using: 0 IPUs\n",
      "HPU available: False, using: 0 HPUs\n",
      "LOCAL_RANK: 0 - CUDA_VISIBLE_DEVICES: [0]\n",
      "SLURM auto-requeueing enabled. Setting signal handlers.\n"
     ]
    },
    {
     "name": "stdout",
     "output_type": "stream",
     "text": [
      "Epoch 25/25: 100%|██████████| 25/25 [00:32<00:00,  1.29s/it, loss=8.55e+03, v_num=1]"
     ]
    },
    {
     "name": "stderr",
     "output_type": "stream",
     "text": [
      "`Trainer.fit` stopped: `max_epochs=25` reached.\n"
     ]
    },
    {
     "name": "stdout",
     "output_type": "stream",
     "text": [
      "Epoch 25/25: 100%|██████████| 25/25 [00:32<00:00,  1.31s/it, loss=8.55e+03, v_num=1]\n",
      "\u001b[34mINFO    \u001b[0m Training for \u001b[1;36m5\u001b[0m epochs.                                                                                    \n"
     ]
    },
    {
     "name": "stderr",
     "output_type": "stream",
     "text": [
      "GPU available: True (cuda), used: True\n",
      "TPU available: False, using: 0 TPU cores\n",
      "IPU available: False, using: 0 IPUs\n",
      "HPU available: False, using: 0 HPUs\n",
      "LOCAL_RANK: 0 - CUDA_VISIBLE_DEVICES: [0]\n",
      "SLURM auto-requeueing enabled. Setting signal handlers.\n"
     ]
    },
    {
     "name": "stdout",
     "output_type": "stream",
     "text": [
      "Epoch 5/5: 100%|██████████| 5/5 [00:08<00:00,  1.66s/it, loss=8.55e+03, v_num=1]"
     ]
    },
    {
     "name": "stderr",
     "output_type": "stream",
     "text": [
      "`Trainer.fit` stopped: `max_epochs=5` reached.\n"
     ]
    },
    {
     "name": "stdout",
     "output_type": "stream",
     "text": [
      "Epoch 5/5: 100%|██████████| 5/5 [00:08<00:00,  1.66s/it, loss=8.55e+03, v_num=1]\n",
      "\u001b[34mINFO    \u001b[0m Training for \u001b[1;36m5\u001b[0m epochs.                                                                                    \n"
     ]
    },
    {
     "name": "stderr",
     "output_type": "stream",
     "text": [
      "GPU available: True (cuda), used: True\n",
      "TPU available: False, using: 0 TPU cores\n",
      "IPU available: False, using: 0 IPUs\n",
      "HPU available: False, using: 0 HPUs\n",
      "LOCAL_RANK: 0 - CUDA_VISIBLE_DEVICES: [0]\n",
      "SLURM auto-requeueing enabled. Setting signal handlers.\n"
     ]
    },
    {
     "name": "stdout",
     "output_type": "stream",
     "text": [
      "Epoch 5/5: 100%|██████████| 5/5 [00:08<00:00,  1.69s/it, loss=8.56e+03, v_num=1]"
     ]
    },
    {
     "name": "stderr",
     "output_type": "stream",
     "text": [
      "`Trainer.fit` stopped: `max_epochs=5` reached.\n"
     ]
    },
    {
     "name": "stdout",
     "output_type": "stream",
     "text": [
      "Epoch 5/5: 100%|██████████| 5/5 [00:08<00:00,  1.69s/it, loss=8.56e+03, v_num=1]\n",
      "\u001b[34mINFO    \u001b[0m Training for \u001b[1;36m5\u001b[0m epochs.                                                                                    \n"
     ]
    },
    {
     "name": "stderr",
     "output_type": "stream",
     "text": [
      "GPU available: True (cuda), used: True\n",
      "TPU available: False, using: 0 TPU cores\n",
      "IPU available: False, using: 0 IPUs\n",
      "HPU available: False, using: 0 HPUs\n",
      "LOCAL_RANK: 0 - CUDA_VISIBLE_DEVICES: [0]\n",
      "SLURM auto-requeueing enabled. Setting signal handlers.\n"
     ]
    },
    {
     "name": "stdout",
     "output_type": "stream",
     "text": [
      "Epoch 5/5: 100%|██████████| 5/5 [00:08<00:00,  1.68s/it, loss=8.56e+03, v_num=1]"
     ]
    },
    {
     "name": "stderr",
     "output_type": "stream",
     "text": [
      "`Trainer.fit` stopped: `max_epochs=5` reached.\n"
     ]
    },
    {
     "name": "stdout",
     "output_type": "stream",
     "text": [
      "Epoch 5/5: 100%|██████████| 5/5 [00:08<00:00,  1.69s/it, loss=8.56e+03, v_num=1]\n",
      "\u001b[34mINFO    \u001b[0m Training for \u001b[1;36m5\u001b[0m epochs.                                                                                    \n"
     ]
    },
    {
     "name": "stderr",
     "output_type": "stream",
     "text": [
      "GPU available: True (cuda), used: True\n",
      "TPU available: False, using: 0 TPU cores\n",
      "IPU available: False, using: 0 IPUs\n",
      "HPU available: False, using: 0 HPUs\n",
      "LOCAL_RANK: 0 - CUDA_VISIBLE_DEVICES: [0]\n",
      "SLURM auto-requeueing enabled. Setting signal handlers.\n"
     ]
    },
    {
     "name": "stdout",
     "output_type": "stream",
     "text": [
      "Epoch 5/5: 100%|██████████| 5/5 [00:08<00:00,  1.66s/it, loss=8.55e+03, v_num=1]"
     ]
    },
    {
     "name": "stderr",
     "output_type": "stream",
     "text": [
      "`Trainer.fit` stopped: `max_epochs=5` reached.\n"
     ]
    },
    {
     "name": "stdout",
     "output_type": "stream",
     "text": [
      "Epoch 5/5: 100%|██████████| 5/5 [00:08<00:00,  1.66s/it, loss=8.55e+03, v_num=1]\n",
      "\u001b[34mINFO    \u001b[0m Training for \u001b[1;36m5\u001b[0m epochs.                                                                                    \n"
     ]
    },
    {
     "name": "stderr",
     "output_type": "stream",
     "text": [
      "GPU available: True (cuda), used: True\n",
      "TPU available: False, using: 0 TPU cores\n",
      "IPU available: False, using: 0 IPUs\n",
      "HPU available: False, using: 0 HPUs\n",
      "LOCAL_RANK: 0 - CUDA_VISIBLE_DEVICES: [0]\n",
      "SLURM auto-requeueing enabled. Setting signal handlers.\n"
     ]
    },
    {
     "name": "stdout",
     "output_type": "stream",
     "text": [
      "Epoch 5/5: 100%|██████████| 5/5 [00:08<00:00,  1.68s/it, loss=8.56e+03, v_num=1]"
     ]
    },
    {
     "name": "stderr",
     "output_type": "stream",
     "text": [
      "`Trainer.fit` stopped: `max_epochs=5` reached.\n"
     ]
    },
    {
     "name": "stdout",
     "output_type": "stream",
     "text": [
      "Epoch 5/5: 100%|██████████| 5/5 [00:08<00:00,  1.68s/it, loss=8.56e+03, v_num=1]\n",
      "\u001b[34mINFO    \u001b[0m Training for \u001b[1;36m5\u001b[0m epochs.                                                                                    \n"
     ]
    },
    {
     "name": "stderr",
     "output_type": "stream",
     "text": [
      "GPU available: True (cuda), used: True\n",
      "TPU available: False, using: 0 TPU cores\n",
      "IPU available: False, using: 0 IPUs\n",
      "HPU available: False, using: 0 HPUs\n",
      "LOCAL_RANK: 0 - CUDA_VISIBLE_DEVICES: [0]\n",
      "SLURM auto-requeueing enabled. Setting signal handlers.\n"
     ]
    },
    {
     "name": "stdout",
     "output_type": "stream",
     "text": [
      "Epoch 5/5: 100%|██████████| 5/5 [00:08<00:00,  1.68s/it, loss=8.56e+03, v_num=1]"
     ]
    },
    {
     "name": "stderr",
     "output_type": "stream",
     "text": [
      "`Trainer.fit` stopped: `max_epochs=5` reached.\n"
     ]
    },
    {
     "name": "stdout",
     "output_type": "stream",
     "text": [
      "Epoch 5/5: 100%|██████████| 5/5 [00:08<00:00,  1.68s/it, loss=8.56e+03, v_num=1]\n"
     ]
    },
    {
     "name": "stderr",
     "output_type": "stream",
     "text": [
      "/lab/tambora_li/Claire/thesis/IRIS_signaling_inference/iris/src/iris.py:643: ImplicitModificationWarning: Trying to modify attribute `.obs` of view, initializing view as actual.\n",
      "  adata_cat_out.obs[class_names] = 'unknown'\n",
      "GPU available: True (cuda), used: True\n",
      "TPU available: False, using: 0 TPU cores\n",
      "IPU available: False, using: 0 IPUs\n",
      "HPU available: False, using: 0 HPUs\n",
      "LOCAL_RANK: 0 - CUDA_VISIBLE_DEVICES: [0]\n",
      "SLURM auto-requeueing enabled. Setting signal handlers.\n"
     ]
    },
    {
     "name": "stdout",
     "output_type": "stream",
     "text": [
      "Epoch 25/25: 100%|██████████| 25/25 [00:32<00:00,  1.26s/it, loss=8.53e+03, v_num=1]"
     ]
    },
    {
     "name": "stderr",
     "output_type": "stream",
     "text": [
      "`Trainer.fit` stopped: `max_epochs=25` reached.\n"
     ]
    },
    {
     "name": "stdout",
     "output_type": "stream",
     "text": [
      "Epoch 25/25: 100%|██████████| 25/25 [00:32<00:00,  1.30s/it, loss=8.53e+03, v_num=1]\n",
      "\u001b[34mINFO    \u001b[0m Training for \u001b[1;36m5\u001b[0m epochs.                                                                                    \n"
     ]
    },
    {
     "name": "stderr",
     "output_type": "stream",
     "text": [
      "GPU available: True (cuda), used: True\n",
      "TPU available: False, using: 0 TPU cores\n",
      "IPU available: False, using: 0 IPUs\n",
      "HPU available: False, using: 0 HPUs\n",
      "LOCAL_RANK: 0 - CUDA_VISIBLE_DEVICES: [0]\n",
      "SLURM auto-requeueing enabled. Setting signal handlers.\n"
     ]
    },
    {
     "name": "stdout",
     "output_type": "stream",
     "text": [
      "Epoch 5/5: 100%|██████████| 5/5 [00:08<00:00,  1.65s/it, loss=8.54e+03, v_num=1]"
     ]
    },
    {
     "name": "stderr",
     "output_type": "stream",
     "text": [
      "`Trainer.fit` stopped: `max_epochs=5` reached.\n"
     ]
    },
    {
     "name": "stdout",
     "output_type": "stream",
     "text": [
      "Epoch 5/5: 100%|██████████| 5/5 [00:08<00:00,  1.65s/it, loss=8.54e+03, v_num=1]\n",
      "\u001b[34mINFO    \u001b[0m Training for \u001b[1;36m5\u001b[0m epochs.                                                                                    \n"
     ]
    },
    {
     "name": "stderr",
     "output_type": "stream",
     "text": [
      "GPU available: True (cuda), used: True\n",
      "TPU available: False, using: 0 TPU cores\n",
      "IPU available: False, using: 0 IPUs\n",
      "HPU available: False, using: 0 HPUs\n",
      "LOCAL_RANK: 0 - CUDA_VISIBLE_DEVICES: [0]\n",
      "SLURM auto-requeueing enabled. Setting signal handlers.\n"
     ]
    },
    {
     "name": "stdout",
     "output_type": "stream",
     "text": [
      "Epoch 5/5: 100%|██████████| 5/5 [00:08<00:00,  1.71s/it, loss=8.55e+03, v_num=1]"
     ]
    },
    {
     "name": "stderr",
     "output_type": "stream",
     "text": [
      "`Trainer.fit` stopped: `max_epochs=5` reached.\n"
     ]
    },
    {
     "name": "stdout",
     "output_type": "stream",
     "text": [
      "Epoch 5/5: 100%|██████████| 5/5 [00:08<00:00,  1.71s/it, loss=8.55e+03, v_num=1]\n",
      "\u001b[34mINFO    \u001b[0m Training for \u001b[1;36m5\u001b[0m epochs.                                                                                    \n"
     ]
    },
    {
     "name": "stderr",
     "output_type": "stream",
     "text": [
      "GPU available: True (cuda), used: True\n",
      "TPU available: False, using: 0 TPU cores\n",
      "IPU available: False, using: 0 IPUs\n",
      "HPU available: False, using: 0 HPUs\n",
      "LOCAL_RANK: 0 - CUDA_VISIBLE_DEVICES: [0]\n",
      "SLURM auto-requeueing enabled. Setting signal handlers.\n"
     ]
    },
    {
     "name": "stdout",
     "output_type": "stream",
     "text": [
      "Epoch 5/5: 100%|██████████| 5/5 [00:08<00:00,  1.67s/it, loss=8.55e+03, v_num=1]"
     ]
    },
    {
     "name": "stderr",
     "output_type": "stream",
     "text": [
      "`Trainer.fit` stopped: `max_epochs=5` reached.\n"
     ]
    },
    {
     "name": "stdout",
     "output_type": "stream",
     "text": [
      "Epoch 5/5: 100%|██████████| 5/5 [00:08<00:00,  1.67s/it, loss=8.55e+03, v_num=1]\n",
      "\u001b[34mINFO    \u001b[0m Training for \u001b[1;36m5\u001b[0m epochs.                                                                                    \n"
     ]
    },
    {
     "name": "stderr",
     "output_type": "stream",
     "text": [
      "GPU available: True (cuda), used: True\n",
      "TPU available: False, using: 0 TPU cores\n",
      "IPU available: False, using: 0 IPUs\n",
      "HPU available: False, using: 0 HPUs\n",
      "LOCAL_RANK: 0 - CUDA_VISIBLE_DEVICES: [0]\n",
      "SLURM auto-requeueing enabled. Setting signal handlers.\n"
     ]
    },
    {
     "name": "stdout",
     "output_type": "stream",
     "text": [
      "Epoch 5/5: 100%|██████████| 5/5 [00:08<00:00,  1.78s/it, loss=8.53e+03, v_num=1]"
     ]
    },
    {
     "name": "stderr",
     "output_type": "stream",
     "text": [
      "`Trainer.fit` stopped: `max_epochs=5` reached.\n"
     ]
    },
    {
     "name": "stdout",
     "output_type": "stream",
     "text": [
      "Epoch 5/5: 100%|██████████| 5/5 [00:08<00:00,  1.77s/it, loss=8.53e+03, v_num=1]\n",
      "\u001b[34mINFO    \u001b[0m Training for \u001b[1;36m5\u001b[0m epochs.                                                                                    \n"
     ]
    },
    {
     "name": "stderr",
     "output_type": "stream",
     "text": [
      "GPU available: True (cuda), used: True\n",
      "TPU available: False, using: 0 TPU cores\n",
      "IPU available: False, using: 0 IPUs\n",
      "HPU available: False, using: 0 HPUs\n",
      "LOCAL_RANK: 0 - CUDA_VISIBLE_DEVICES: [0]\n",
      "SLURM auto-requeueing enabled. Setting signal handlers.\n"
     ]
    },
    {
     "name": "stdout",
     "output_type": "stream",
     "text": [
      "Epoch 5/5: 100%|██████████| 5/5 [00:08<00:00,  1.75s/it, loss=8.54e+03, v_num=1]"
     ]
    },
    {
     "name": "stderr",
     "output_type": "stream",
     "text": [
      "`Trainer.fit` stopped: `max_epochs=5` reached.\n"
     ]
    },
    {
     "name": "stdout",
     "output_type": "stream",
     "text": [
      "Epoch 5/5: 100%|██████████| 5/5 [00:08<00:00,  1.76s/it, loss=8.54e+03, v_num=1]\n",
      "\u001b[34mINFO    \u001b[0m Training for \u001b[1;36m5\u001b[0m epochs.                                                                                    \n"
     ]
    },
    {
     "name": "stderr",
     "output_type": "stream",
     "text": [
      "GPU available: True (cuda), used: True\n",
      "TPU available: False, using: 0 TPU cores\n",
      "IPU available: False, using: 0 IPUs\n",
      "HPU available: False, using: 0 HPUs\n",
      "LOCAL_RANK: 0 - CUDA_VISIBLE_DEVICES: [0]\n",
      "SLURM auto-requeueing enabled. Setting signal handlers.\n"
     ]
    },
    {
     "name": "stdout",
     "output_type": "stream",
     "text": [
      "Epoch 5/5: 100%|██████████| 5/5 [00:09<00:00,  1.83s/it, loss=8.53e+03, v_num=1]"
     ]
    },
    {
     "name": "stderr",
     "output_type": "stream",
     "text": [
      "`Trainer.fit` stopped: `max_epochs=5` reached.\n"
     ]
    },
    {
     "name": "stdout",
     "output_type": "stream",
     "text": [
      "Epoch 5/5: 100%|██████████| 5/5 [00:09<00:00,  1.82s/it, loss=8.53e+03, v_num=1]\n"
     ]
    },
    {
     "data": {
      "image/png": "[encoded data removed]",
      "text/plain": [
       "<Figure size 640x480 with 1 Axes>"
      ]
     },
     "metadata": {},
     "output_type": "display_data"
    }
   ],
   "source": [
    "response_scores, iris_scores = iris_ex.held_out_condition_validation(conditions=['RA+Bmp-Fgf+Wnt-TgfB+Shh-', 'RA-Bmp+Fgf+Wnt+TgfB+Shh-', 'RA+Bmp+Fgf+Wnt-TgfB-Shh-'])"
   ]
  },
  {
   "cell_type": "code",
   "execution_count": 13,
   "metadata": {},
   "outputs": [
    {
     "name": "stdout",
     "output_type": "stream",
     "text": [
      "Response gene method F1 scores: [0.9556451612903225, 0.9556451612903225, 0.6984924623115578, 0.967098703888335, 0.8739130434782608, 1.0, 0.9052224371373307, 0.7614879649890591, 0.8966861598440545, 0.9709090909090909, 0.6619385342789599, 1.0, 0.9367088607594937, 0.9211009174311926, 0.3978201634877384, 0.9738219895287958, 0.7542372881355932, 1.0]\n",
      "IRIS F1 scores: [0.4397590361445783, 0.5346534653465346, 0.5749656121045392, 0.46745562130177515, 0.3209076175040519, 0.1631205673758865, 0.2088607594936709, 0.649164677804296, 0.533678756476684, 0.655581947743468, 0.4011299435028249, 0.132013201320132, 0.3801652892561984, 0.6261682242990654, 0.4766839378238343, 0.4923076923076923, 0.3756906077348066, 0.16249999999999998]\n"
     ]
    }
   ],
   "source": [
    "print('Response gene method F1 scores:', response_scores)\n",
    "print('IRIS F1 scores:', iris_scores)"
   ]
  }
 ],
 "metadata": {
  "kernelspec": {
   "display_name": "Python 3 (ipykernel)",
   "language": "python",
   "name": "python3"
  },
  "language_info": {
   "codemirror_mode": {
    "name": "ipython",
    "version": 3
   },
   "file_extension": ".py",
   "mimetype": "text/x-python",
   "name": "python",
   "nbconvert_exporter": "python",
   "pygments_lexer": "ipython3",
   "version": "3.9.16"
  }
 },
 "nbformat": 4,
 "nbformat_minor": 4
}
