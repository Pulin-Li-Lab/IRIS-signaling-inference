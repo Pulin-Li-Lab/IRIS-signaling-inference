{
 "cells": [
  {
   "cell_type": "code",
   "execution_count": 1,
   "metadata": {},
   "outputs": [],
   "source": [
    "import sys\n",
    "import os\n",
    "\n",
    "# add the parent directory (iris) to sys.path so it can be found\n",
    "sys.path.append(os.path.abspath(os.path.join(os.getcwd(), \"../..\")))"
   ]
  },
  {
   "cell_type": "code",
   "execution_count": 2,
   "metadata": {},
   "outputs": [
    {
     "name": "stderr",
     "output_type": "stream",
     "text": [
      "/Users/clairelu/opt/anaconda3/envs/iris2/lib/python3.9/site-packages/tqdm/auto.py:21: TqdmWarning: IProgress not found. Please update jupyter and ipywidgets. See https://ipywidgets.readthedocs.io/en/stable/user_install.html\n",
      "  from .autonotebook import tqdm as notebook_tqdm\n"
     ]
    }
   ],
   "source": [
    "from scanpy import read_h5ad\n",
    "from iris.src.iris import IRIS"
   ]
  },
  {
   "cell_type": "code",
   "execution_count": 3,
   "metadata": {},
   "outputs": [],
   "source": [
    "path = '../../data/screen_data.h5ad' # replace with your path to data"
   ]
  },
  {
   "cell_type": "code",
   "execution_count": 4,
   "metadata": {},
   "outputs": [],
   "source": [
    "adata = read_h5ad(path) \n",
    "iris_ex = IRIS('fig34_example', anndata = adata)"
   ]
  },
  {
   "cell_type": "code",
   "execution_count": 5,
   "metadata": {},
   "outputs": [
    {
     "data": {
      "text/html": [
       "<div>\n",
       "<style scoped>\n",
       "    .dataframe tbody tr th:only-of-type {\n",
       "        vertical-align: middle;\n",
       "    }\n",
       "\n",
       "    .dataframe tbody tr th {\n",
       "        vertical-align: top;\n",
       "    }\n",
       "\n",
       "    .dataframe thead th {\n",
       "        text-align: right;\n",
       "    }\n",
       "</style>\n",
       "<table border=\"1\" class=\"dataframe\">\n",
       "  <thead>\n",
       "    <tr style=\"text-align: right;\">\n",
       "      <th></th>\n",
       "      <th>batch</th>\n",
       "      <th>celltype</th>\n",
       "      <th>RA_class</th>\n",
       "      <th>Wnt_class</th>\n",
       "      <th>TgfB_class</th>\n",
       "      <th>Bmp_class</th>\n",
       "      <th>Fgf_class</th>\n",
       "      <th>species</th>\n",
       "      <th>Shh_class</th>\n",
       "      <th>_scvi_batch</th>\n",
       "      <th>_scvi_labels</th>\n",
       "    </tr>\n",
       "  </thead>\n",
       "  <tbody>\n",
       "    <tr>\n",
       "      <th>AAACCTGAGAACTGTA-1</th>\n",
       "      <td>1</td>\n",
       "      <td>Epiblast</td>\n",
       "      <td>Stim</td>\n",
       "      <td>Ctrl</td>\n",
       "      <td>Stim</td>\n",
       "      <td>Ctrl</td>\n",
       "      <td>Stim</td>\n",
       "      <td>mouse</td>\n",
       "      <td>Ctrl</td>\n",
       "      <td>0</td>\n",
       "      <td>0</td>\n",
       "    </tr>\n",
       "    <tr>\n",
       "      <th>AAACCTGAGTCAAGCG-1</th>\n",
       "      <td>1</td>\n",
       "      <td>Epiblast</td>\n",
       "      <td>Ctrl</td>\n",
       "      <td>Stim</td>\n",
       "      <td>Ctrl</td>\n",
       "      <td>Stim</td>\n",
       "      <td>Ctrl</td>\n",
       "      <td>mouse</td>\n",
       "      <td>Ctrl</td>\n",
       "      <td>0</td>\n",
       "      <td>1</td>\n",
       "    </tr>\n",
       "    <tr>\n",
       "      <th>AAACCTGAGTGCGTGA-1</th>\n",
       "      <td>1</td>\n",
       "      <td>Epiblast</td>\n",
       "      <td>Ctrl</td>\n",
       "      <td>Stim</td>\n",
       "      <td>Ctrl</td>\n",
       "      <td>Stim</td>\n",
       "      <td>Ctrl</td>\n",
       "      <td>mouse</td>\n",
       "      <td>Ctrl</td>\n",
       "      <td>0</td>\n",
       "      <td>1</td>\n",
       "    </tr>\n",
       "    <tr>\n",
       "      <th>AAACCTGGTTCAGGCC-1</th>\n",
       "      <td>1</td>\n",
       "      <td>Epiblast</td>\n",
       "      <td>Ctrl</td>\n",
       "      <td>Stim</td>\n",
       "      <td>Ctrl</td>\n",
       "      <td>Stim</td>\n",
       "      <td>Stim</td>\n",
       "      <td>mouse</td>\n",
       "      <td>Ctrl</td>\n",
       "      <td>0</td>\n",
       "      <td>1</td>\n",
       "    </tr>\n",
       "    <tr>\n",
       "      <th>AAACCTGTCATGTAGC-1</th>\n",
       "      <td>1</td>\n",
       "      <td>Epiblast</td>\n",
       "      <td>Stim</td>\n",
       "      <td>Ctrl</td>\n",
       "      <td>Ctrl</td>\n",
       "      <td>Stim</td>\n",
       "      <td>Ctrl</td>\n",
       "      <td>mouse</td>\n",
       "      <td>Ctrl</td>\n",
       "      <td>0</td>\n",
       "      <td>1</td>\n",
       "    </tr>\n",
       "    <tr>\n",
       "      <th>...</th>\n",
       "      <td>...</td>\n",
       "      <td>...</td>\n",
       "      <td>...</td>\n",
       "      <td>...</td>\n",
       "      <td>...</td>\n",
       "      <td>...</td>\n",
       "      <td>...</td>\n",
       "      <td>...</td>\n",
       "      <td>...</td>\n",
       "      <td>...</td>\n",
       "      <td>...</td>\n",
       "    </tr>\n",
       "    <tr>\n",
       "      <th>AATCGGTAGCCCAGCT-1</th>\n",
       "      <td>2</td>\n",
       "      <td>Primitive Streak</td>\n",
       "      <td>Stim</td>\n",
       "      <td>Ctrl</td>\n",
       "      <td>Ctrl</td>\n",
       "      <td>Stim</td>\n",
       "      <td>Ctrl</td>\n",
       "      <td>mouse</td>\n",
       "      <td>Stim</td>\n",
       "      <td>1</td>\n",
       "      <td>1</td>\n",
       "    </tr>\n",
       "    <tr>\n",
       "      <th>AATCGGTAGTGCAAGC-1</th>\n",
       "      <td>2</td>\n",
       "      <td>Primitive Streak</td>\n",
       "      <td>Ctrl</td>\n",
       "      <td>Stim</td>\n",
       "      <td>Ctrl</td>\n",
       "      <td>Ctrl</td>\n",
       "      <td>Ctrl</td>\n",
       "      <td>mouse</td>\n",
       "      <td>Stim</td>\n",
       "      <td>1</td>\n",
       "      <td>0</td>\n",
       "    </tr>\n",
       "    <tr>\n",
       "      <th>AATCGGTCAACTGCTA-1</th>\n",
       "      <td>2</td>\n",
       "      <td>Primitive Streak</td>\n",
       "      <td>Ctrl</td>\n",
       "      <td>Stim</td>\n",
       "      <td>Stim</td>\n",
       "      <td>Stim</td>\n",
       "      <td>Stim</td>\n",
       "      <td>mouse</td>\n",
       "      <td>Ctrl</td>\n",
       "      <td>1</td>\n",
       "      <td>1</td>\n",
       "    </tr>\n",
       "    <tr>\n",
       "      <th>AATCGGTGTTACCGAT-1</th>\n",
       "      <td>2</td>\n",
       "      <td>Primitive Streak</td>\n",
       "      <td>Stim</td>\n",
       "      <td>Stim</td>\n",
       "      <td>Ctrl</td>\n",
       "      <td>Ctrl</td>\n",
       "      <td>Ctrl</td>\n",
       "      <td>mouse</td>\n",
       "      <td>Ctrl</td>\n",
       "      <td>1</td>\n",
       "      <td>0</td>\n",
       "    </tr>\n",
       "    <tr>\n",
       "      <th>AATCGGTTCCGATATG-1</th>\n",
       "      <td>2</td>\n",
       "      <td>Primitive Streak</td>\n",
       "      <td>Ctrl</td>\n",
       "      <td>Ctrl</td>\n",
       "      <td>Stim</td>\n",
       "      <td>Stim</td>\n",
       "      <td>Stim</td>\n",
       "      <td>mouse</td>\n",
       "      <td>Ctrl</td>\n",
       "      <td>1</td>\n",
       "      <td>1</td>\n",
       "    </tr>\n",
       "  </tbody>\n",
       "</table>\n",
       "<p>10150 rows × 11 columns</p>\n",
       "</div>"
      ],
      "text/plain": [
       "                    batch          celltype RA_class Wnt_class TgfB_class  \\\n",
       "AAACCTGAGAACTGTA-1      1          Epiblast     Stim      Ctrl       Stim   \n",
       "AAACCTGAGTCAAGCG-1      1          Epiblast     Ctrl      Stim       Ctrl   \n",
       "AAACCTGAGTGCGTGA-1      1          Epiblast     Ctrl      Stim       Ctrl   \n",
       "AAACCTGGTTCAGGCC-1      1          Epiblast     Ctrl      Stim       Ctrl   \n",
       "AAACCTGTCATGTAGC-1      1          Epiblast     Stim      Ctrl       Ctrl   \n",
       "...                   ...               ...      ...       ...        ...   \n",
       "AATCGGTAGCCCAGCT-1      2  Primitive Streak     Stim      Ctrl       Ctrl   \n",
       "AATCGGTAGTGCAAGC-1      2  Primitive Streak     Ctrl      Stim       Ctrl   \n",
       "AATCGGTCAACTGCTA-1      2  Primitive Streak     Ctrl      Stim       Stim   \n",
       "AATCGGTGTTACCGAT-1      2  Primitive Streak     Stim      Stim       Ctrl   \n",
       "AATCGGTTCCGATATG-1      2  Primitive Streak     Ctrl      Ctrl       Stim   \n",
       "\n",
       "                   Bmp_class Fgf_class species Shh_class  _scvi_batch  \\\n",
       "AAACCTGAGAACTGTA-1      Ctrl      Stim   mouse      Ctrl            0   \n",
       "AAACCTGAGTCAAGCG-1      Stim      Ctrl   mouse      Ctrl            0   \n",
       "AAACCTGAGTGCGTGA-1      Stim      Ctrl   mouse      Ctrl            0   \n",
       "AAACCTGGTTCAGGCC-1      Stim      Stim   mouse      Ctrl            0   \n",
       "AAACCTGTCATGTAGC-1      Stim      Ctrl   mouse      Ctrl            0   \n",
       "...                      ...       ...     ...       ...          ...   \n",
       "AATCGGTAGCCCAGCT-1      Stim      Ctrl   mouse      Stim            1   \n",
       "AATCGGTAGTGCAAGC-1      Ctrl      Ctrl   mouse      Stim            1   \n",
       "AATCGGTCAACTGCTA-1      Stim      Stim   mouse      Ctrl            1   \n",
       "AATCGGTGTTACCGAT-1      Ctrl      Ctrl   mouse      Ctrl            1   \n",
       "AATCGGTTCCGATATG-1      Stim      Stim   mouse      Ctrl            1   \n",
       "\n",
       "                    _scvi_labels  \n",
       "AAACCTGAGAACTGTA-1             0  \n",
       "AAACCTGAGTCAAGCG-1             1  \n",
       "AAACCTGAGTGCGTGA-1             1  \n",
       "AAACCTGGTTCAGGCC-1             1  \n",
       "AAACCTGTCATGTAGC-1             1  \n",
       "...                          ...  \n",
       "AATCGGTAGCCCAGCT-1             1  \n",
       "AATCGGTAGTGCAAGC-1             0  \n",
       "AATCGGTCAACTGCTA-1             1  \n",
       "AATCGGTGTTACCGAT-1             0  \n",
       "AATCGGTTCCGATATG-1             1  \n",
       "\n",
       "[10150 rows x 11 columns]"
      ]
     },
     "execution_count": 5,
     "metadata": {},
     "output_type": "execute_result"
    }
   ],
   "source": [
    "adata.obs"
   ]
  },
  {
   "cell_type": "code",
   "execution_count": null,
   "metadata": {},
   "outputs": [
    {
     "name": "stderr",
     "output_type": "stream",
     "text": [
      "GPU available: False, used: False\n",
      "TPU available: False, using: 0 TPU cores\n",
      "IPU available: False, using: 0 IPUs\n",
      "HPU available: False, using: 0 HPUs\n",
      "/Users/clairelu/opt/anaconda3/envs/iris2/lib/python3.9/site-packages/lightning/pytorch/trainer/connectors/data_connector.py:441: The 'train_dataloader' does not have many workers which may be a bottleneck. Consider increasing the value of the `num_workers` argument` to `num_workers=11` in the `DataLoader` to improve performance.\n",
      "/Users/clairelu/opt/anaconda3/envs/iris2/lib/python3.9/site-packages/lightning/pytorch/trainer/connectors/data_connector.py:441: The 'val_dataloader' does not have many workers which may be a bottleneck. Consider increasing the value of the `num_workers` argument` to `num_workers=11` in the `DataLoader` to improve performance.\n"
     ]
    },
    {
     "name": "stdout",
     "output_type": "stream",
     "text": [
      "Epoch 9/125:   6%|▋         | 8/125 [02:37<36:21, 18.64s/it, v_num=1, train_loss_step=9.36e+3, train_loss_epoch=8.95e+3]"
     ]
    },
    {
     "name": "stderr",
     "output_type": "stream",
     "text": [
      "/Users/clairelu/opt/anaconda3/envs/iris2/lib/python3.9/site-packages/lightning/pytorch/trainer/call.py:54: Detected KeyboardInterrupt, attempting graceful shutdown...\n"
     ]
    },
    {
     "name": "stdout",
     "output_type": "stream",
     "text": [
      "\u001b[34mINFO    \u001b[0m Training for \u001b[1;36m5\u001b[0m epochs.                                                                                    \n"
     ]
    },
    {
     "name": "stderr",
     "output_type": "stream",
     "text": [
      "GPU available: False, used: False\n",
      "TPU available: False, using: 0 TPU cores\n",
      "IPU available: False, using: 0 IPUs\n",
      "HPU available: False, using: 0 HPUs\n",
      "/Users/clairelu/opt/anaconda3/envs/iris2/lib/python3.9/site-packages/lightning/pytorch/trainer/connectors/data_connector.py:441: The 'train_dataloader' does not have many workers which may be a bottleneck. Consider increasing the value of the `num_workers` argument` to `num_workers=11` in the `DataLoader` to improve performance.\n",
      "/Users/clairelu/opt/anaconda3/envs/iris2/lib/python3.9/site-packages/lightning/pytorch/trainer/connectors/data_connector.py:441: The 'val_dataloader' does not have many workers which may be a bottleneck. Consider increasing the value of the `num_workers` argument` to `num_workers=11` in the `DataLoader` to improve performance.\n"
     ]
    },
    {
     "name": "stdout",
     "output_type": "stream",
     "text": [
      "Epoch 1/5:   0%|          | 0/5 [00:00<?, ?it/s]"
     ]
    }
   ],
   "source": [
    "# run_model saves the trained SCVI and SCANVI models to your directory\n",
    "predictions, adata_results = iris_ex.run_model('predictions.csv')"
   ]
  },
  {
   "cell_type": "code",
   "execution_count": null,
   "metadata": {},
   "outputs": [],
   "source": [
    "scores = iris_ex.evaluate(predictions, metrics=[\"AUROC\", \"AUPRC\"])"
   ]
  },
  {
   "cell_type": "code",
   "execution_count": null,
   "metadata": {},
   "outputs": [],
   "source": [
    "iris_ex.held_out_condition_validation(condition='BMP+TGFB+FGF-WNT+RA-')"
   ]
  },
  {
   "cell_type": "code",
   "execution_count": null,
   "metadata": {},
   "outputs": [],
   "source": [
    "# run_model will save models to paths\n",
    "# need to get VAE from somewhere ?"
   ]
  },
  {
   "cell_type": "code",
   "execution_count": null,
   "metadata": {},
   "outputs": [],
   "source": [
    "suffix = '_vae=100_scanvi=10' # if used run_model defaults\n",
    "for signal in iris_ex.signals:\n",
    "    modelpath = signal + '_class' + suffix\n",
    "    obj.gene_ablation_test(modelpath, ..., signal, ['hv'])"
   ]
  },
  {
   "cell_type": "code",
   "execution_count": null,
   "metadata": {},
   "outputs": [],
   "source": [
    "# find VAE to pass in\n",
    "obj.gsea_saliency(vae, batches)"
   ]
  }
 ],
 "metadata": {
  "kernelspec": {
   "display_name": "iris2",
   "language": "python",
   "name": "python3"
  },
  "language_info": {
   "codemirror_mode": {
    "name": "ipython",
    "version": 3
   },
   "file_extension": ".py",
   "mimetype": "text/x-python",
   "name": "python",
   "nbconvert_exporter": "python",
   "pygments_lexer": "ipython3",
   "version": "3.9.21"
  }
 },
 "nbformat": 4,
 "nbformat_minor": 2
}
